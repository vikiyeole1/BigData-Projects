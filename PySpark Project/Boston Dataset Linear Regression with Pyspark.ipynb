{
 "cells": [
  {
   "cell_type": "code",
   "execution_count": null,
   "metadata": {
    "colab": {
     "base_uri": "https://localhost:8080/"
    },
    "id": "GC3A0TD-Ly9U",
    "outputId": "279f444d-3b5a-4704-9d5a-96d72903e23f"
   },
   "outputs": [
    {
     "name": "stdout",
     "output_type": "stream",
     "text": [
      "Mounted at /content/drive\n"
     ]
    }
   ],
   "source": [
    "from google.colab import drive\n",
    "drive.mount('/content/drive')\n"
   ]
  },
  {
   "cell_type": "code",
   "execution_count": null,
   "metadata": {
    "id": "DIwPq7SEOIG3"
   },
   "outputs": [],
   "source": [
    "!pip install -q findspark"
   ]
  },
  {
   "cell_type": "code",
   "execution_count": null,
   "metadata": {
    "id": "-DOhmFNPNsVv"
   },
   "outputs": [],
   "source": [
    "import os\n",
    "import findspark"
   ]
  },
  {
   "cell_type": "code",
   "execution_count": null,
   "metadata": {
    "colab": {
     "base_uri": "https://localhost:8080/"
    },
    "id": "yagyIBorOWcB",
    "outputId": "c9c60462-aed5-49d4-d6ba-5a60eebb4586"
   },
   "outputs": [
    {
     "name": "stdout",
     "output_type": "stream",
     "text": [
      "Collecting pyspark\n",
      "  Downloading pyspark-3.1.2.tar.gz (212.4 MB)\n",
      "\u001b[K     |████████████████████████████████| 212.4 MB 66 kB/s \n",
      "\u001b[?25hCollecting py4j==0.10.9\n",
      "  Downloading py4j-0.10.9-py2.py3-none-any.whl (198 kB)\n",
      "\u001b[K     |████████████████████████████████| 198 kB 54.3 MB/s \n",
      "\u001b[?25hBuilding wheels for collected packages: pyspark\n",
      "  Building wheel for pyspark (setup.py) ... \u001b[?25l\u001b[?25hdone\n",
      "  Created wheel for pyspark: filename=pyspark-3.1.2-py2.py3-none-any.whl size=212880768 sha256=6e840fd4a77378b0c501ea32f626d38385ad6b46a846f70ad132219a939d6f34\n",
      "  Stored in directory: /root/.cache/pip/wheels/a5/0a/c1/9561f6fecb759579a7d863dcd846daaa95f598744e71b02c77\n",
      "Successfully built pyspark\n",
      "Installing collected packages: py4j, pyspark\n",
      "Successfully installed py4j-0.10.9 pyspark-3.1.2\n"
     ]
    }
   ],
   "source": [
    "pip install pyspark"
   ]
  },
  {
   "cell_type": "code",
   "execution_count": null,
   "metadata": {
    "id": "DaUExY1JNcz-"
   },
   "outputs": [],
   "source": [
    "from pyspark.sql import SparkSession\n",
    "\n",
    "spark = SparkSession.builder\\\n",
    "        .master(\"local\")\\\n",
    "        .appName(\"Colab\")\\\n",
    "        .config('spark.ui.port', '4050')\\\n",
    "        .getOrCreate()"
   ]
  },
  {
   "cell_type": "code",
   "execution_count": null,
   "metadata": {
    "colab": {
     "base_uri": "https://localhost:8080/"
    },
    "id": "6-wJDGH3NGST",
    "outputId": "384a8025-83cb-452d-c70a-123bcbf78446"
   },
   "outputs": [
    {
     "data": {
      "text/plain": [
       "Row(CRIM=0.00632, ZN=18.0, INDUS=2.309999943, CHAS=0, NOX=0.537999988, RM=6.574999809, AGE=65.19999695, DIS=4.090000153, RAD=1, TAX=296, PT=15.30000019, B=396.8999939, LSTAT=4.980000019, MV=24.0)"
      ]
     },
     "execution_count": 13,
     "metadata": {},
     "output_type": "execute_result"
    }
   ],
   "source": [
    "df = spark.read.csv(\"/content/sample_data/boston.csv\", header=True, inferSchema=True)\n",
    "df.head()"
   ]
  },
  {
   "cell_type": "code",
   "execution_count": null,
   "metadata": {
    "colab": {
     "base_uri": "https://localhost:8080/"
    },
    "id": "4UZ8lUaLOrss",
    "outputId": "dce446e5-7dd3-41d0-8fe4-7a5b556f71ae"
   },
   "outputs": [
    {
     "name": "stdout",
     "output_type": "stream",
     "text": [
      "+-----------+----+-----------+----+-----------+-----------+-----------+-----------+---+---+-----------+-----------+-----------+-----------+\n",
      "|       CRIM|  ZN|      INDUS|CHAS|        NOX|         RM|        AGE|        DIS|RAD|TAX|         PT|          B|      LSTAT|         MV|\n",
      "+-----------+----+-----------+----+-----------+-----------+-----------+-----------+---+---+-----------+-----------+-----------+-----------+\n",
      "|    0.00632|18.0|2.309999943|   0|0.537999988|6.574999809|65.19999695|4.090000153|  1|296|15.30000019|396.8999939|4.980000019|       24.0|\n",
      "|0.027310001| 0.0|7.070000172|   0|0.469000012|6.421000004|78.90000153|4.967100143|  2|242|17.79999924|396.8999939|9.140000343|21.60000038|\n",
      "|    0.02729| 0.0|7.070000172|   0|0.469000012|7.184999943|61.09999847|4.967100143|  2|242|17.79999924|392.8299866| 4.03000021|34.70000076|\n",
      "|0.032370001| 0.0|2.180000067|   0|0.458000004|6.998000145|45.79999924|6.062200069|  3|222|18.70000076|394.6300049|2.940000057|33.40000153|\n",
      "|0.069049999| 0.0|2.180000067|   0|0.458000004|7.146999836|54.20000076|6.062200069|  3|222|18.70000076|396.8999939|5.329999924|36.20000076|\n",
      "|0.029850001| 0.0|2.180000067|   0|0.458000004|6.429999828|58.70000076|6.062200069|  3|222|18.70000076|394.1199951|5.210000038|28.70000076|\n",
      "|0.088289998|12.5|7.869999886|   0|0.523999989|6.012000084|66.59999847|5.560500145|  5|311|15.19999981|395.6000061|12.43000031|22.89999962|\n",
      "|0.144549996|12.5|7.869999886|   0|0.523999989|6.171999931|96.09999847|5.950500011|  5|311|15.19999981|396.8999939|19.14999962|27.10000038|\n",
      "|0.211239994|12.5|7.869999886|   0|0.523999989|5.631000042|      100.0|6.082099915|  5|311|15.19999981|386.6300049|29.93000031|       16.5|\n",
      "|0.170039997|12.5|7.869999886|   0|0.523999989|6.004000187|85.90000153|6.592100143|  5|311|15.19999981|386.7099915|17.10000038|18.89999962|\n",
      "|0.224889994|12.5|7.869999886|   0|0.523999989|6.376999855|94.30000305|6.346700191|  5|311|15.19999981| 392.519989|20.45000076|       15.0|\n",
      "|0.117470004|12.5|7.869999886|   0|0.523999989|6.008999825|82.90000153|6.226699829|  5|311|15.19999981|396.8999939|13.27000046|18.89999962|\n",
      "|0.093780003|12.5|7.869999886|   0|0.523999989|5.888999939|       39.0|5.450900078|  5|311|15.19999981|      390.5|15.71000004|21.70000076|\n",
      "|0.629760027| 0.0|8.140000343|   0|0.537999988|5.948999882|61.79999924|4.707499981|  4|307|       21.0|396.8999939|8.260000229|20.39999962|\n",
      "|0.637960017| 0.0|8.140000343|   0|0.537999988|6.096000195|       84.5|4.461900234|  4|307|       21.0| 380.019989|10.26000023|18.20000076|\n",
      "|0.627390027| 0.0|8.140000343|   0|0.537999988|5.834000111|       56.5|4.498600006|  4|307|       21.0|395.6199951|8.470000267|19.89999962|\n",
      "|1.053930044| 0.0|8.140000343|   0|0.537999988|5.934999943|29.29999924|4.498600006|  4|307|       21.0|386.8500061|6.579999924|23.10000038|\n",
      "|0.784200013| 0.0|8.140000343|   0|0.537999988|5.989999771|81.69999695|4.257900238|  4|307|       21.0|     386.75|14.67000008|       17.5|\n",
      "|0.802709997| 0.0|8.140000343|   0|0.537999988|5.455999851|36.59999847|3.796499968|  4|307|       21.0|288.9899902|11.68999958|20.20000076|\n",
      "|0.725799978| 0.0|8.140000343|   0|0.537999988|5.727000237|       69.5|3.796499968|  4|307|       21.0|390.9500122|11.27999973|18.20000076|\n",
      "+-----------+----+-----------+----+-----------+-----------+-----------+-----------+---+---+-----------+-----------+-----------+-----------+\n",
      "only showing top 20 rows\n",
      "\n"
     ]
    }
   ],
   "source": [
    "df.show()"
   ]
  },
  {
   "cell_type": "code",
   "execution_count": null,
   "metadata": {
    "colab": {
     "base_uri": "https://localhost:8080/"
    },
    "id": "OKqvheZIOrzT",
    "outputId": "7d195ad9-7e59-4e9f-e09f-a1864e7f9c6e"
   },
   "outputs": [
    {
     "name": "stdout",
     "output_type": "stream",
     "text": [
      "root\n",
      " |-- CRIM: double (nullable = true)\n",
      " |-- ZN: double (nullable = true)\n",
      " |-- INDUS: double (nullable = true)\n",
      " |-- CHAS: integer (nullable = true)\n",
      " |-- NOX: double (nullable = true)\n",
      " |-- RM: double (nullable = true)\n",
      " |-- AGE: double (nullable = true)\n",
      " |-- DIS: double (nullable = true)\n",
      " |-- RAD: integer (nullable = true)\n",
      " |-- TAX: integer (nullable = true)\n",
      " |-- PT: double (nullable = true)\n",
      " |-- B: double (nullable = true)\n",
      " |-- LSTAT: double (nullable = true)\n",
      " |-- MV: double (nullable = true)\n",
      "\n"
     ]
    }
   ],
   "source": [
    "from pyspark.ml.feature import VectorAssembler\n",
    "from pyspark.ml.regression import LinearRegression\n",
    "df.printSchema()"
   ]
  },
  {
   "cell_type": "code",
   "execution_count": null,
   "metadata": {
    "colab": {
     "base_uri": "https://localhost:8080/"
    },
    "id": "HteSLpeKXBu4",
    "outputId": "a630c933-58b2-423f-d92e-509e7754ad0d"
   },
   "outputs": [
    {
     "name": "stdout",
     "output_type": "stream",
     "text": [
      "+--------------------+-----------+\n",
      "|          Attributes|         MV|\n",
      "+--------------------+-----------+\n",
      "|[0.00632,18.0,2.3...|       24.0|\n",
      "|[0.027310001,0.0,...|21.60000038|\n",
      "|[0.02729,0.0,7.07...|34.70000076|\n",
      "|[0.032370001,0.0,...|33.40000153|\n",
      "|[0.069049999,0.0,...|36.20000076|\n",
      "|[0.029850001,0.0,...|28.70000076|\n",
      "|[0.088289998,12.5...|22.89999962|\n",
      "|[0.144549996,12.5...|27.10000038|\n",
      "|[0.211239994,12.5...|       16.5|\n",
      "|[0.170039997,12.5...|18.89999962|\n",
      "|[0.224889994,12.5...|       15.0|\n",
      "|[0.117470004,12.5...|18.89999962|\n",
      "|[0.093780003,12.5...|21.70000076|\n",
      "|[0.629760027,0.0,...|20.39999962|\n",
      "|[0.637960017,0.0,...|18.20000076|\n",
      "|[0.627390027,0.0,...|19.89999962|\n",
      "|[1.053930044,0.0,...|23.10000038|\n",
      "|[0.784200013,0.0,...|       17.5|\n",
      "|[0.802709997,0.0,...|20.20000076|\n",
      "|[0.725799978,0.0,...|18.20000076|\n",
      "+--------------------+-----------+\n",
      "only showing top 20 rows\n",
      "\n"
     ]
    }
   ],
   "source": [
    "#Input all the features in one vector column\n",
    "assembler = VectorAssembler(inputCols=['CRIM', 'ZN', 'INDUS', 'CHAS', 'NOX', 'RM', 'AGE', 'DIS', 'RAD', 'TAX', 'PT', 'B', 'LSTAT'], outputCol = 'Attributes')\n",
    "\n",
    "output = assembler.transform(df)\n",
    "\n",
    "#Input vs Output\n",
    "finalized_data = output.select(\"Attributes\",\"MV\")\n",
    "\n",
    "finalized_data.show()"
   ]
  },
  {
   "cell_type": "markdown",
   "metadata": {
    "id": "S4SuLvcggU8B"
   },
   "source": [
    "Question 3 Attempt"
   ]
  },
  {
   "cell_type": "code",
   "execution_count": null,
   "metadata": {
    "colab": {
     "base_uri": "https://localhost:8080/"
    },
    "id": "8Zan-XS0X615",
    "outputId": "4d033b9a-adfb-49fb-d652-611bc644a338"
   },
   "outputs": [
    {
     "name": "stderr",
     "output_type": "stream",
     "text": [
      "/usr/local/lib/python3.7/dist-packages/statsmodels/tools/_testing.py:19: FutureWarning: pandas.util.testing is deprecated. Use the functions in the public API at pandas.testing instead.\n",
      "  import pandas.util.testing as tm\n",
      "Exception ignored in: <function JavaWrapper.__del__ at 0x7f2f5e26c830>\n",
      "Traceback (most recent call last):\n",
      "  File \"/usr/local/lib/python3.7/dist-packages/pyspark/ml/wrapper.py\", line 39, in __del__\n",
      "    if SparkContext._active_spark_context and self._java_obj is not None:\n",
      "AttributeError: 'VectorAssembler' object has no attribute '_java_obj'\n"
     ]
    }
   ],
   "source": [
    "from pyspark.ml.feature import VectorAssembler\n",
    "import statsmodels.api as sm"
   ]
  },
  {
   "cell_type": "code",
   "execution_count": null,
   "metadata": {
    "colab": {
     "base_uri": "https://localhost:8080/"
    },
    "id": "Jzu2DVRafFG6",
    "outputId": "40f7d4a4-7efd-456a-8b23-bf283605446e"
   },
   "outputs": [
    {
     "data": {
      "text/plain": [
       "Column<'MV'>"
      ]
     },
     "execution_count": 67,
     "metadata": {},
     "output_type": "execute_result"
    }
   ],
   "source": [
    "df['MV']"
   ]
  },
  {
   "cell_type": "code",
   "execution_count": null,
   "metadata": {
    "id": "prXlek5rcJT0"
   },
   "outputs": [],
   "source": [
    "COL1=['CRIM', 'ZN', 'INDUS', 'CHAS', 'NOX', 'RM', 'AGE', 'DIS', 'RAD', 'TAX', 'PT', 'B', 'LSTAT']\n",
    "y=df['MV']\n",
    "X=df[COL1]"
   ]
  },
  {
   "cell_type": "code",
   "execution_count": null,
   "metadata": {
    "colab": {
     "base_uri": "https://localhost:8080/",
     "height": 201
    },
    "id": "7aIF_V89YOXP",
    "outputId": "0326fb5f-ba60-48d0-ecc4-a59f2f3c8874"
   },
   "outputs": [
    {
     "ename": "TypeError",
     "evalue": "ignored",
     "output_type": "error",
     "traceback": [
      "\u001b[0;31m---------------------------------------------------------------------------\u001b[0m",
      "\u001b[0;31mTypeError\u001b[0m                                 Traceback (most recent call last)",
      "\u001b[0;32m<ipython-input-68-70901d864868>\u001b[0m in \u001b[0;36m<module>\u001b[0;34m()\u001b[0m\n\u001b[1;32m      1\u001b[0m \u001b[0;31m# Compute correlation of x and y\u001b[0m\u001b[0;34m\u001b[0m\u001b[0;34m\u001b[0m\u001b[0;34m\u001b[0m\u001b[0m\n\u001b[0;32m----> 2\u001b[0;31m \u001b[0mcorreLation\u001b[0m \u001b[0;34m=\u001b[0m \u001b[0mX\u001b[0m\u001b[0;34m.\u001b[0m\u001b[0mcorr\u001b[0m\u001b[0;34m(\u001b[0m\u001b[0my\u001b[0m\u001b[0;34m)\u001b[0m\u001b[0;34m\u001b[0m\u001b[0;34m\u001b[0m\u001b[0m\n\u001b[0m\u001b[1;32m      3\u001b[0m \u001b[0mprint\u001b[0m\u001b[0;34m(\u001b[0m\u001b[0;34m\"The correlation between x and y is %4.2f\"\u001b[0m \u001b[0;34m%\u001b[0m \u001b[0;34m(\u001b[0m\u001b[0mcorreLation\u001b[0m\u001b[0;34m)\u001b[0m\u001b[0;34m)\u001b[0m\u001b[0;34m\u001b[0m\u001b[0;34m\u001b[0m\u001b[0m\n",
      "\u001b[0;31mTypeError\u001b[0m: corr() missing 1 required positional argument: 'col2'"
     ]
    }
   ],
   "source": [
    "# Compute correlation of x and y\n",
    "correLation = X.corr(y)\n",
    "print(\"The correlation between x and y is %4.2f\" % (correLation))"
   ]
  },
  {
   "cell_type": "markdown",
   "metadata": {
    "id": "8Axt-44HgJbf"
   },
   "source": [
    "Question 4 Solution"
   ]
  },
  {
   "cell_type": "code",
   "execution_count": null,
   "metadata": {
    "colab": {
     "base_uri": "https://localhost:8080/"
    },
    "id": "lJon28Dree3D",
    "outputId": "f38649e6-ed84-4bac-c80d-b092a01a02c3"
   },
   "outputs": [
    {
     "name": "stdout",
     "output_type": "stream",
     "text": [
      "The coefficient of the model is : DenseVector([-0.1188, 0.0508, 0.026, 2.2221, -20.7883, 3.5626, 0.0189, -1.5154, 0.3276, -0.0128, -0.9617, 0.0088, -0.5737])\n",
      "The Intercept of the model is : 39.532971\n"
     ]
    }
   ],
   "source": [
    "#coefficient of the regression model\n",
    "coeff = regressor.coefficients\n",
    "\n",
    "#X and Y intercept\n",
    "intr = regressor.intercept\n",
    "\n",
    "print (\"The coefficient of the model is : %a\" %coeff)\n",
    "print (\"The Intercept of the model is : %f\" %intr)\n"
   ]
  },
  {
   "cell_type": "code",
   "execution_count": null,
   "metadata": {
    "colab": {
     "base_uri": "https://localhost:8080/"
    },
    "id": "967FLxdWXvd0",
    "outputId": "d8e341fe-b5c8-4785-c222-ea03a747cfbc"
   },
   "outputs": [
    {
     "name": "stdout",
     "output_type": "stream",
     "text": [
      "+--------------------+-----------+------------------+\n",
      "|          Attributes|         MV|        prediction|\n",
      "+--------------------+-----------+------------------+\n",
      "|[0.02729,0.0,7.07...|34.70000076| 30.77369107634989|\n",
      "|[0.02899,40.0,1.2...|26.60000038|21.872428941253418|\n",
      "|[0.03049,55.0,3.7...|31.20000076|28.329904808064235|\n",
      "|[0.033059999,0.0,...|20.60000038|21.905028859888386|\n",
      "|[0.03427,0.0,5.19...|       19.5|20.030071597892057|\n",
      "|[0.03551,25.0,4.8...|22.89999962|25.309849244790968|\n",
      "|[0.038710002,52.5...|23.20000076|27.186732574035872|\n",
      "|[0.03932,0.0,3.41...|       22.0|27.821559743674495|\n",
      "|[0.042939998,28.0...|20.60000038|27.711773215346557|\n",
      "|[0.04462,25.0,4.8...|23.89999962|27.577490375556806|\n",
      "|[0.04544,0.0,3.24...|19.79999924|  21.2286524460867|\n",
      "|[0.045899998,52.5...|22.29999924| 27.57004948761018|\n",
      "|[0.050590001,0.0,...|23.89999962| 24.73982810240296|\n",
      "|[0.057799999,0.0,...|37.20000076| 33.12464361107265|\n",
      "|[0.06129,20.0,3.3...|       46.0| 40.05637216590533|\n",
      "|[0.066419996,0.0,...|29.89999962|31.814990582305334|\n",
      "|[0.066639997,0.0,...|29.39999962|30.495862257000113|\n",
      "|[0.069109999,45.0...|       30.5|30.252758292341284|\n",
      "|[0.07886,80.0,4.9...|37.29999924|  34.5693413252812|\n",
      "|[0.079499997,60.0...|24.10000038|  20.5237954907844|\n",
      "+--------------------+-----------+------------------+\n",
      "only showing top 20 rows\n",
      "\n"
     ]
    }
   ],
   "source": [
    "#Split training and testing data\n",
    "train_data,test_data = finalized_data.randomSplit([0.8,0.2])\n",
    "\n",
    "\n",
    "regressor = LinearRegression(featuresCol = 'Attributes', labelCol = 'MV')\n",
    "\n",
    "#Learn to fit the model from training set\n",
    "regressor = regressor.fit(train_data)\n",
    "\n",
    "#To predict the prices on testing set\n",
    "pred = regressor.evaluate(test_data)\n",
    "\n",
    "#Predict the model\n",
    "pred.predictions.show()"
   ]
  },
  {
   "cell_type": "markdown",
   "metadata": {
    "id": "HHKjCuhhf__X"
   },
   "source": [
    "Question 5 Solution"
   ]
  },
  {
   "cell_type": "code",
   "execution_count": null,
   "metadata": {
    "colab": {
     "base_uri": "https://localhost:8080/"
    },
    "id": "UMkvgc_EeJMc",
    "outputId": "d2dd095c-cca5-4225-952a-d80746db5030"
   },
   "outputs": [
    {
     "name": "stdout",
     "output_type": "stream",
     "text": [
      "RMSE: 4.971\n",
      "MSE: 24.715\n",
      "MAE: 3.275\n",
      "r2: 0.665\n"
     ]
    }
   ],
   "source": [
    "from pyspark.ml.evaluation import RegressionEvaluator\n",
    "eval = RegressionEvaluator(labelCol=\"MV\", predictionCol=\"prediction\", metricName=\"rmse\")\n",
    "\n",
    "# Root Mean Square Error\n",
    "rmse = eval.evaluate(pred.predictions)\n",
    "print(\"RMSE: %.3f\" % rmse)\n",
    "\n",
    "# Mean Square Error\n",
    "mse = eval.evaluate(pred.predictions, {eval.metricName: \"mse\"})\n",
    "print(\"MSE: %.3f\" % mse)\n",
    "\n",
    "# Mean Absolute Error\n",
    "mae = eval.evaluate(pred.predictions, {eval.metricName: \"mae\"})\n",
    "print(\"MAE: %.3f\" % mae)\n",
    "\n",
    "# r2 - coefficient of determination\n",
    "r2 = eval.evaluate(pred.predictions, {eval.metricName: \"r2\"})\n",
    "print(\"r2: %.3f\" %r2)\n",
    "\n"
   ]
  },
  {
   "cell_type": "markdown",
   "metadata": {
    "id": "fh5oAsPVMbqE"
   },
   "source": [
    "# New Section"
   ]
  }
 ],
 "metadata": {
  "colab": {
   "name": "Untitled3.ipynb",
   "provenance": []
  },
  "kernelspec": {
   "display_name": "Python 3",
   "language": "python",
   "name": "python3"
  },
  "language_info": {
   "codemirror_mode": {
    "name": "ipython",
    "version": 3
   },
   "file_extension": ".py",
   "mimetype": "text/x-python",
   "name": "python",
   "nbconvert_exporter": "python",
   "pygments_lexer": "ipython3",
   "version": "3.8.8"
  }
 },
 "nbformat": 4,
 "nbformat_minor": 1
}
